{
 "cells": [
  {
   "cell_type": "code",
   "execution_count": 1,
   "id": "ff9f8c12",
   "metadata": {},
   "outputs": [
    {
     "name": "stdout",
     "output_type": "stream",
     "text": [
      "aws-cli/1.20.40 Python/3.7.11 Darwin/20.6.0 botocore/1.21.40\r\n"
     ]
    }
   ],
   "source": [
    "!aws --version"
   ]
  }
 ],
 "metadata": {
  "kernelspec": {
   "display_name": "aws_infra_create_py3.7",
   "language": "python",
   "name": ".venv"
  },
  "language_info": {
   "codemirror_mode": {
    "name": "ipython",
    "version": 3
   },
   "file_extension": ".py",
   "mimetype": "text/x-python",
   "name": "python",
   "nbconvert_exporter": "python",
   "pygments_lexer": "ipython3",
   "version": "3.7.11"
  }
 },
 "nbformat": 4,
 "nbformat_minor": 5
}
